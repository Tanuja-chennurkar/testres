{
 "cells": [
  {
   "cell_type": "code",
   "execution_count": 3,
   "id": "29a5b8f9",
   "metadata": {},
   "outputs": [
    {
     "name": "stdout",
     "output_type": "stream",
     "text": [
      "enter a side:4\n",
      "enter second side:4\n",
      "enter third side:6\n",
      "Isosceles triangle\n"
     ]
    }
   ],
   "source": [
    "A=input(\"enter a side:\")\n",
    "B=input(\"enter second side:\")\n",
    "C=input(\"enter third side:\")\n",
    "if (A==B==C):\n",
    "    print (\"Equilateral triangle\")\n",
    "elif(A==B or B==C or C==A):\n",
    "    print(\"Isosceles triangle\")\n",
    "else:\n",
    "    print(\"scalene triangle\")\n"
   ]
  },
  {
   "cell_type": "code",
   "execution_count": null,
   "id": "a608a0e5",
   "metadata": {},
   "outputs": [],
   "source": []
  }
 ],
 "metadata": {
  "kernelspec": {
   "display_name": "Python 3",
   "language": "python",
   "name": "python3"
  },
  "language_info": {
   "codemirror_mode": {
    "name": "ipython",
    "version": 3
   },
   "file_extension": ".py",
   "mimetype": "text/x-python",
   "name": "python",
   "nbconvert_exporter": "python",
   "pygments_lexer": "ipython3",
   "version": "3.8.8"
  }
 },
 "nbformat": 4,
 "nbformat_minor": 5
}
